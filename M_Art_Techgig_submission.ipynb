{
  "nbformat": 4,
  "nbformat_minor": 0,
  "metadata": {
    "colab": {
      "name": "M_Art_Techgig_submission.ipynb",
      "provenance": [],
      "collapsed_sections": []
    },
    "kernelspec": {
      "name": "python3",
      "display_name": "Python 3"
    },
    "language_info": {
      "name": "python"
    },
    "accelerator": "GPU"
  },
  "cells": [
    {
      "cell_type": "markdown",
      "metadata": {
        "id": "XMSrQSXqGGLV"
      },
      "source": [
        "**M-Art Techgig submission Walkthrough**"
      ]
    },
    {
      "cell_type": "markdown",
      "metadata": {
        "id": "MmTaBpLeGoQq"
      },
      "source": [
        "Run to create yolov5 repo in your runtime"
      ]
    },
    {
      "cell_type": "markdown",
      "metadata": {
        "id": "L572JALMGvkP"
      },
      "source": [
        "Clone yolov5 repository\n",
        "\n",
        "Clone Submission Reository\n",
        "\n",
        "  https://github.com/DarkShadow-web/Bosch_AI_hackathon_2021"
      ]
    },
    {
      "cell_type": "code",
      "metadata": {
        "id": "LNac2VDzGANG"
      },
      "source": [
        "%cd /content/\n",
        "!git clone https://github.com/ultralytics/yolov5  # clone repo\n",
        "!git clone https://github.com/DarkShadow-web/Bosch_AI_hackathon_2021/\n",
        "\n",
        "%cd yolov5\n",
        "%pip install -qr requirements.txt  # install dependencies\n",
        "import torch\n",
        "from IPython.display import Image, clear_output  # to display images\n",
        "clear_output()\n",
        "print(f\"Setup complete. Using torch {torch.__version__} ({torch.cuda.get_device_properties(0).name if torch.cuda.is_available() else 'CPU'})\")"
      ],
      "execution_count": null,
      "outputs": []
    },
    {
      "cell_type": "markdown",
      "metadata": {
        "id": "e_ChJ7B_ki4m"
      },
      "source": [
        "Add Validation Images\n"
      ]
    },
    {
      "cell_type": "code",
      "metadata": {
        "id": "qL6VT6hikEjz"
      },
      "source": [
        "%cd /content/\n",
        "testurl='https://github.com/DarkShadow-web/Bosch_AI_hackathon_2021/releases/download/v1.0/test_images.zip'\n",
        "import urllib.request\n",
        "urllib.request.urlretrieve(testurl,'test_images.zip')\n",
        "!unzip 'test_images.zip'"
      ],
      "execution_count": null,
      "outputs": []
    },
    {
      "cell_type": "code",
      "metadata": {
        "id": "T_BJtIF_UXtp"
      },
      "source": [
        "%cd /content/Bosch_AI_hackathon_2021/inference_models"
      ],
      "execution_count": null,
      "outputs": []
    },
    {
      "cell_type": "markdown",
      "metadata": {
        "id": "gHEt4fsFSdlt"
      },
      "source": [
        "Test **M6_B20_E61** to get inference time"
      ]
    },
    {
      "cell_type": "code",
      "metadata": {
        "id": "utHed_gnOQUe"
      },
      "source": [
        "!python /content/yolov5/detect.py --weights M6_B20_E61.pt --img 640 --conf 0.8 --source /content/test_images"
      ],
      "execution_count": null,
      "outputs": []
    },
    {
      "cell_type": "markdown",
      "metadata": {
        "id": "f6snTogkOpap"
      },
      "source": [
        "The Inference time of M6_B20_E61 is 21ms"
      ]
    },
    {
      "cell_type": "markdown",
      "metadata": {
        "id": "dbgobyX7TpuF"
      },
      "source": [
        "Test **S6_B32_E61** to get inference time"
      ]
    },
    {
      "cell_type": "code",
      "metadata": {
        "id": "GgTA-6uDTsCO"
      },
      "source": [
        "!python /content/yolov5/detect.py --weights S6_B32_E61.pt --img 640 --conf 0.8 --source /content/test_images"
      ],
      "execution_count": null,
      "outputs": []
    },
    {
      "cell_type": "markdown",
      "metadata": {
        "id": "DoKikvQ-UEUf"
      },
      "source": [
        "The Inference time of S6_B32_E61 is 14ms"
      ]
    },
    {
      "cell_type": "markdown",
      "metadata": {
        "id": "-qwvYlWsUupm"
      },
      "source": [
        "**Use Model ensembling to ensemble all the models and test the Images**"
      ]
    },
    {
      "cell_type": "code",
      "metadata": {
        "id": "1eK48T2bUuWx"
      },
      "source": [
        "!python /content/yolov5/detect.py --weights M6_B20_E61.pt S6_B32_E61.pt --img 640 --conf 0.8 --source /content/test_images"
      ],
      "execution_count": null,
      "outputs": []
    },
    {
      "cell_type": "markdown",
      "metadata": {
        "id": "Oj6mcw3TVUe4"
      },
      "source": [
        "The Inference time of Ensembled Model is 25ms"
      ]
    },
    {
      "cell_type": "code",
      "metadata": {
        "id": "E_BflUc4w1sP"
      },
      "source": [
        ""
      ],
      "execution_count": null,
      "outputs": []
    }
  ]
}